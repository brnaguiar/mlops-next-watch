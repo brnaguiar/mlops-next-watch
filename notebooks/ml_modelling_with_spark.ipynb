{
 "cells": [
  {
   "cell_type": "code",
   "execution_count": 1,
   "metadata": {},
   "outputs": [],
   "source": [
    "from pyspark.sql import SparkSession\n",
    "from pyspark.ml.tuning import ParamGridBuilder, TrainValidationSplit\n",
    "from pyspark.ml.evaluation import RegressionEvaluator\n",
    "from pyspark.ml.recommendation import ALS\n",
    "from pyspark.ml import Pipeline\n",
    "from conf import catalog, paths\n",
    "\n",
    "# import hyperopt as hp\n",
    "from hyperopt import Trials, fmin, hp, tpe, STATUS_OK\n",
    "import mlflow\n",
    "import os\n"
   ]
  },
  {
   "cell_type": "code",
   "execution_count": 2,
   "metadata": {
    "scrolled": true
   },
   "outputs": [
    {
     "name": "stderr",
     "output_type": "stream",
     "text": [
      "23/05/20 18:09:42 WARN Utils: Your hostname, bruno resolves to a loopback address: 127.0.1.1; using 192.168.1.150 instead (on interface wlp0s20f3)\n",
      "23/05/20 18:09:42 WARN Utils: Set SPARK_LOCAL_IP if you need to bind to another address\n",
      "Setting default log level to \"WARN\".\n",
      "To adjust logging level use sc.setLogLevel(newLevel). For SparkR, use setLogLevel(newLevel).\n",
      "23/05/20 18:09:42 WARN NativeCodeLoader: Unable to load native-hadoop library for your platform... using builtin-java classes where applicable\n"
     ]
    }
   ],
   "source": [
    "spark = (\n",
    "    SparkSession.builder.appName(\"Next Watch ML\")\n",
    "    .master(\"local[3]\")\n",
    "    # .config(\"spark.executor.memory\", \"3g\")\n",
    "    .config(\"spark.driver.maxResultSize\", \"96g\")\n",
    "    .config(\"spark.driver.memory\", \"96g\")\n",
    "    .config(\"spark.executor.memory\", \"8g\")\n",
    "    .getOrCreate()\n",
    ")  # dark\n"
   ]
  },
  {
   "cell_type": "code",
   "execution_count": 3,
   "metadata": {},
   "outputs": [
    {
     "data": {
      "text/plain": [
       "<Experiment: artifact_location='file:///home/bruno/mlops-project/mlops-next-watch/mldata/699812880901745651', creation_time=1684077031098, experiment_id='699812880901745651', last_update_time=1684077031098, lifecycle_stage='active', name='movie-recommendations', tags={}>"
      ]
     },
     "execution_count": 3,
     "metadata": {},
     "output_type": "execute_result"
    }
   ],
   "source": [
    "# mlflow.set_tracking_uri(\"sqlite:///mlflow.db\")\n",
    "MLFLOW_TRACKING_URI = \"file:///home/bruno/mlops-project/mlops-next-watch/mldata\"\n",
    "mlflow.set_tracking_uri(MLFLOW_TRACKING_URI)\n",
    "mlflow.set_experiment(\"movie-recommendations\")\n"
   ]
  },
  {
   "cell_type": "code",
   "execution_count": 4,
   "metadata": {},
   "outputs": [],
   "source": [
    "ratings_path = paths.get_path(\n",
    "    paths.DATA_01EXTERNAL,\n",
    "    catalog.Sources.MOVIELENS,\n",
    "    catalog.Datasets.RATINGS,\n",
    "    suffix=catalog.FileFormat.CSV,\n",
    ")  # MOVIE"
   ]
  },
  {
   "cell_type": "code",
   "execution_count": 5,
   "metadata": {
    "scrolled": true
   },
   "outputs": [
    {
     "name": "stderr",
     "output_type": "stream",
     "text": [
      "                                                                                \r"
     ]
    }
   ],
   "source": [
    "ratings = spark.read.load(str(ratings_path), format=\"csv\", header=True, inferSchema=True)\n"
   ]
  },
  {
   "cell_type": "code",
   "execution_count": 6,
   "metadata": {
    "scrolled": true
   },
   "outputs": [
    {
     "name": "stdout",
     "output_type": "stream",
     "text": [
      "root\n",
      " |-- userId: integer (nullable = true)\n",
      " |-- movieId: integer (nullable = true)\n",
      " |-- rating: double (nullable = true)\n",
      " |-- timestamp: integer (nullable = true)\n",
      "\n"
     ]
    }
   ],
   "source": [
    "ratings.printSchema()\n"
   ]
  },
  {
   "cell_type": "code",
   "execution_count": 7,
   "metadata": {},
   "outputs": [],
   "source": [
    "ratings, serve = ratings.randomSplit([0.2, 0.80], seed=42)\n"
   ]
  },
  {
   "cell_type": "code",
   "execution_count": 8,
   "metadata": {
    "scrolled": false
   },
   "outputs": [
    {
     "name": "stderr",
     "output_type": "stream",
     "text": [
      "                                                                                \r"
     ]
    },
    {
     "data": {
      "text/plain": [
       "5555688"
      ]
     },
     "execution_count": 8,
     "metadata": {},
     "output_type": "execute_result"
    }
   ],
   "source": [
    "ratings.count()\n"
   ]
  },
  {
   "cell_type": "code",
   "execution_count": 9,
   "metadata": {},
   "outputs": [
    {
     "name": "stderr",
     "output_type": "stream",
     "text": [
      "\r\n",
      "[Stage 5:>                                                          (0 + 1) / 1]\r"
     ]
    },
    {
     "name": "stdout",
     "output_type": "stream",
     "text": [
      "+------+-------+------+----------+\n",
      "|userId|movieId|rating| timestamp|\n",
      "+------+-------+------+----------+\n",
      "|     1|   2134|   4.5|1256677464|\n",
      "|     2|    170|   3.5|1192913581|\n",
      "|     2|   1186|   3.5|1192913611|\n",
      "|     2|   2352|   4.0|1192913575|\n",
      "|     3|   1645|   4.0| 945141611|\n",
      "+------+-------+------+----------+\n",
      "only showing top 5 rows\n",
      "\n"
     ]
    },
    {
     "name": "stderr",
     "output_type": "stream",
     "text": [
      "\r\n",
      "                                                                                \r"
     ]
    }
   ],
   "source": [
    "ratings.show(5)\n"
   ]
  },
  {
   "cell_type": "code",
   "execution_count": 10,
   "metadata": {},
   "outputs": [],
   "source": [
    "from collaborative.pre_processing.pre_processing_nodes import PreProcessingNodes\n"
   ]
  },
  {
   "cell_type": "code",
   "execution_count": 11,
   "metadata": {},
   "outputs": [
    {
     "name": "stderr",
     "output_type": "stream",
     "text": [
      "                                                                                \r"
     ]
    }
   ],
   "source": [
    "preprocnodes = PreProcessingNodes(spark, catalog.Sources.MOVIELENS)\n",
    "\n",
    "preprocnodes = preprocnodes.drop_column(\n",
    "    ratings, catalog.Datasets.RATINGS, catalog.DatasetType.TRAIN, \"timestamp\", \"rating\"\n",
    ")"
   ]
  },
  {
   "cell_type": "code",
   "execution_count": null,
   "metadata": {},
   "outputs": [],
   "source": [
    "# Drop\n",
    "def drops(*columns):\n",
    "    processed_ratings = ratings.drop(*columns)\n",
    "    return processed_ratings\n",
    "\n",
    "\n",
    "processed_ratings = drops(\"timestamp\")  # \"rating\",\n",
    "\n",
    "train, test = processed_ratings.randomSplit([0.80, 0.20], seed=42)  # .show(3)\n",
    "# train.cache()\n",
    "# test.cache()"
   ]
  },
  {
   "cell_type": "code",
   "execution_count": null,
   "metadata": {
    "scrolled": true
   },
   "outputs": [],
   "source": [
    "train\n"
   ]
  },
  {
   "cell_type": "code",
   "execution_count": null,
   "metadata": {},
   "outputs": [],
   "source": [
    "import evidently\n",
    "from evidently.test_suite import TestSuite\n",
    "from evidently.test_preset import DataQualityTestPreset\n",
    "\n",
    "data_quality = TestSuite(tests=[DataQualityTestPreset()])\n",
    "\n",
    "data_quality.run(\n",
    "    reference_data=None, current_data=train.toPandas()\n",
    ")  # so para ver se o ds de treino esta OK\n",
    "data_quality.show(mode=\"inline\")\n"
   ]
  },
  {
   "cell_type": "code",
   "execution_count": null,
   "metadata": {},
   "outputs": [],
   "source": [
    "# train.show(3)\n"
   ]
  },
  {
   "cell_type": "code",
   "execution_count": null,
   "metadata": {},
   "outputs": [],
   "source": [
    "mlflow.spark.autolog(disable=True)\n"
   ]
  },
  {
   "cell_type": "code",
   "execution_count": null,
   "metadata": {},
   "outputs": [],
   "source": [
    "# with mlflow.start_run(run_name=\"als_baseline\") as run:\n",
    "#     params = {\n",
    "#         \"ranks\": [8, 10, 12, 15, 18, 20],\n",
    "#         \"reg_params\": [0.001, 0.01, 0.05, 0.1, 0.2],\n",
    "#         \"cold_start_strategy\": [\"drop\"],  # [\"nan\", \"drop\"]\n",
    "#         \"max_iter\": [5],\n",
    "#         \"train_ratio\": 0.800,\n",
    "#     }\n",
    "\n",
    "#     mlflow.set_tag(\"model_name\", \"ALS\")\n",
    "#     mlflow.log_params(params)\n",
    "\n",
    "#     als = ALS(\n",
    "#         userCol=\"userId\",\n",
    "#         itemCol=\"movieId\",\n",
    "#         ratingCol=\"rating\",\n",
    "#     )\n",
    "\n",
    "#     param_grid = (\n",
    "#         ParamGridBuilder()\n",
    "#         .addGrid(als.regParam, params[\"reg_params\"])\n",
    "#         .addGrid(als.rank, params[\"ranks\"])\n",
    "#         .addGrid(als.maxIter, params[\"max_iter\"])\n",
    "#         .addGrid(als.coldStartStrategy, params[\"cold_start_strategy\"])\n",
    "#         .build()\n",
    "#     )\n",
    "\n",
    "#     evaluator = RegressionEvaluator(\n",
    "#         metricName=\"rmse\", labelCol=\"rating\", predictionCol=\"prediction\"\n",
    "#     )\n",
    "\n",
    "#     als_model = Pipeline(stages=[als])\n",
    "\n",
    "#     train_val_split = TrainValidationSplit(\n",
    "#         estimator=als_model,\n",
    "#         estimatorParamMaps=param_grid,\n",
    "#         evaluator=evaluator,\n",
    "#         trainRatio=params[\"train_ratio\"],\n",
    "#     )\n",
    "\n",
    "#     model = train_val_split.fit(train)\n",
    "\n",
    "#     predictions = model.transform(test)\n",
    "\n",
    "#     rmse = evaluator.evaluate(predictions)\n",
    "\n",
    "#     mlflow.log_metric(\"test_rmse\", rmse)\n",
    "#     mlflow.spark.log_model(als_model, \"spark_models\")\n",
    "\n",
    "#     predictions.select(\"userId\", \"movieId\", \"rating\", \"prediction\").show()\n"
   ]
  },
  {
   "cell_type": "code",
   "execution_count": null,
   "metadata": {},
   "outputs": [],
   "source": [
    "train, val = train.randomSplit([0.80, 0.20], seed=42)\n",
    "\n",
    "\n",
    "def train_als(train, val):\n",
    "    def train_wrapper(params):\n",
    "        with mlflow.start_run(nested=True):\n",
    "            mlflow.set_tag(\"model\", \"ALS\")\n",
    "            mlflow.set_tag(\n",
    "                \"mlflow.runName\",\n",
    "                f\"als_rank_{params['rank']}_reg_{params['reg_param']:4f}\",\n",
    "            )\n",
    "            mlflow.log_params(params)\n",
    "            # mlflow.log_params({\"train-data-path\", \"\" \"val-data-path\", \"\"}) # TODO\n",
    "\n",
    "            als = ALS(\n",
    "                userCol=\"userId\",\n",
    "                itemCol=\"movieId\",\n",
    "                ratingCol=\"rating\",\n",
    "                rank=params[\"rank\"],\n",
    "                regParam=params[\"reg_param\"],\n",
    "                coldStartStrategy=params[\"cold_start_strategy\"],\n",
    "                maxIter=params[\"max_iter\"],\n",
    "            )\n",
    "\n",
    "            evaluator = RegressionEvaluator(\n",
    "                metricName=\"rmse\", labelCol=\"rating\", predictionCol=\"prediction\"\n",
    "            )\n",
    "\n",
    "            als_model = Pipeline(stages=[als])\n",
    "\n",
    "            model = als_model.fit(train)\n",
    "\n",
    "            predictions = model.transform(val)\n",
    "\n",
    "            rmse = evaluator.evaluate(predictions)\n",
    "\n",
    "            mlflow.log_metric(\"rmse\", rmse)\n",
    "            mlflow.spark.log_model(\n",
    "                model,\n",
    "                \"als_model\",\n",
    "                # artifact_path=\"als_model_teste\",\n",
    "                registered_model_name=\"spark_als_model\",\n",
    "            )\n",
    "\n",
    "            # TODO: log pre processing...\n",
    "\n",
    "            return {\"loss\": rmse, \"params\": params, \"status\": STATUS_OK}\n",
    "\n",
    "    return train_wrapper\n"
   ]
  },
  {
   "cell_type": "code",
   "execution_count": null,
   "metadata": {},
   "outputs": [],
   "source": [
    "trials = Trials()  # TODO: use `SparkTrials`` distribute trials to the workers\n",
    "params = {\n",
    "    \"rank\": hp.choice(\"rank\", [8, 10, 12, 15, 18, 20]),\n",
    "    \"reg_param\": hp.uniform(\"reg_param\", 0.001, 0.2),\n",
    "    \"cold_start_strategy\": hp.choice(\"cold_start_strategy\", [\"drop\"]),  # [\"nan\", \"drop\"]\n",
    "    \"max_iter\": hp.choice(\"max_iter\", [5]),\n",
    "}\n",
    "\n",
    "with mlflow.start_run(run_name=\"ALS Hyper Opt\") as run:\n",
    "    best = fmin(\n",
    "        fn=train_als(train=train, val=val),\n",
    "        space=params,\n",
    "        algo=tpe.suggest,\n",
    "        max_evals=5,\n",
    "        trials=trials,\n",
    "    )\n",
    "    best_trial = sorted(trials.results, key=lambda result: result[\"loss\"])[0]\n",
    "    mlflow.log_dict(best_trial, \"best_params.json\")\n",
    "    # TODO: Log best model and pre processing ...\n"
   ]
  },
  {
   "cell_type": "code",
   "execution_count": null,
   "metadata": {},
   "outputs": [],
   "source": [
    "print(best_trial)\n",
    "best_trial[\"loss\"]\n",
    "best_trial[\"params\"]\n",
    "best_trial[\"status\"]\n",
    "# rmse = evaluator.evaluate(predictions)\n"
   ]
  },
  {
   "cell_type": "code",
   "execution_count": null,
   "metadata": {},
   "outputs": [],
   "source": [
    "# model.validationMetrics\n",
    "\n",
    "from mlflow.tracking import MlflowClient\n",
    "from mlflow.entities import ViewType\n",
    "\n",
    "client = MlflowClient(\n",
    "    tracking_uri=\"file:///home/bruno/mlops-project/mlops-next-watch/mldata\"\n",
    ")\n",
    "runs = client.search_runs(\n",
    "    experiment_ids=\"984574620396131386\",\n",
    "    filter_string=\"metrics.rmse < 1\",\n",
    "    run_view_type=ViewType.ACTIVE_ONLY,\n",
    "    max_results=5,\n",
    "    order_by=[\"metrics.rmse ASC\"],\n",
    ")\n",
    "#\n",
    "# runs = client.ser\n"
   ]
  },
  {
   "cell_type": "code",
   "execution_count": null,
   "metadata": {},
   "outputs": [],
   "source": [
    "for run in runs:\n",
    "    print(f\"run id: {run.info.run_id}, rmse: {run.data.metrics['rmse']:.4f}\")\n"
   ]
  },
  {
   "cell_type": "code",
   "execution_count": null,
   "metadata": {},
   "outputs": [],
   "source": [
    "mlflow.set_tracking_uri(MLFLOW_TRACKING_URI)\n",
    "run_id = \"d97c9712282a4cf281f94b65b4ba947e\"\n",
    "model_uri = f\"runs:/{run_id}/model\"\n",
    "model_name = \"als_rank_8_reg_0.153200\"\n",
    "mlflow.register_model(model_uri=model_uri, name=model_name)\n"
   ]
  },
  {
   "cell_type": "code",
   "execution_count": null,
   "metadata": {},
   "outputs": [],
   "source": [
    "client.search_registered_models()\n",
    "latest_versions = client.get_latest_versions(name=\"als_rank_8_reg_0.153200\")\n",
    "\n",
    "for version in latest_versions:\n",
    "    pass\n"
   ]
  }
 ],
 "metadata": {
  "kernelspec": {
   "display_name": "Python 3 (ipykernel)",
   "language": "python",
   "name": "python3"
  },
  "language_info": {
   "codemirror_mode": {
    "name": "ipython",
    "version": 3
   },
   "file_extension": ".py",
   "mimetype": "text/x-python",
   "name": "python",
   "nbconvert_exporter": "python",
   "pygments_lexer": "ipython3",
   "version": "3.10.9"
  }
 },
 "nbformat": 4,
 "nbformat_minor": 2
}
