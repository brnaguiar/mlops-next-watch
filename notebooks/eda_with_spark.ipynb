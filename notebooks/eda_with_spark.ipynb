{
 "cells": [
  {
   "cell_type": "markdown",
   "id": "d2daf700",
   "metadata": {},
   "source": [
    "# Spark "
   ]
  },
  {
   "cell_type": "markdown",
   "id": "f8c1aeeb",
   "metadata": {},
   "source": [
    "### Spark Motivation and Concepts"
   ]
  },
  {
   "cell_type": "markdown",
   "id": "0e08fcb7",
   "metadata": {},
   "source": [
    "Spark offers you:\n",
    "- <b>Lazy Computations</b>\n",
    "    - Optimize the job before executing\n",
    "- <b>In-memory data caching</b>\n",
    "    - Scan HDD only once, then scan your RAM\n",
    "- <b>Efficient pipelining</b>\n",
    "    - Avoids the data hitting the HDD by all means\n",
    "\n",
    "Two main abstractions of Spark:\n",
    "- <b>RDD (Resilient Distributed Dataset)</b>:\n",
    "    - Collection of data items split into partitions and stored in memory on worker nodes of the cluster\n",
    "    - Is an interface for data transformation\n",
    "    - Refers to the data stored either in persisted store (HDFS, Cassandra, HBase, etc.) or in cache (memory, memory+disks, disk only, etc.) or in another RDD\n",
    "    - Partitions are recomputed on failure or cache eviction\n",
    "    - Metadata stored for interface:\n",
    "        - *Partitions* - set of data splits associated with this RDD\n",
    "        - *Dependencies* - list of parent RDDs involved in computation \n",
    "        - *Compute* - function to compute partition of the RDD given the\n",
    "parent partitions from the Dependencies\n",
    "        - *Prefered locations* - where is the best place to put\n",
    "computations on this partition (data locality)\n",
    "        - *Partitioner* - how the data is split into partitions\n",
    "    - Two classes of interfaces:\n",
    "        - Transformations\n",
    "        - Actions\n",
    "- <b>DAG (Direct Acyclic Graph)</b>: sequence of computations performed on data\n",
    "    - Node: RDD partition\n",
    "    - Edge: transformation on top of data\n",
    "    - Acyclic: graph cannot return to the older partition\n",
    "    - Direct: transformation is an action that transitions\n",
    "data partition state (from A to B)"
   ]
  },
  {
   "cell_type": "code",
   "execution_count": 11,
   "id": "08f3853b",
   "metadata": {},
   "outputs": [],
   "source": [
    "from typing import Tuple\n",
    "from pyspark.sql import SparkSession, DataFrame\n",
    "from pyspark.sql.functions import (\n",
    "    collect_set,\n",
    "    col,\n",
    "    avg,\n",
    "    count,\n",
    "    split,\n",
    "    explode,\n",
    "    udf,\n",
    "    min,\n",
    "    first,\n",
    ")\n",
    "from pyspark.sql.types import IntegerType, ArrayType, StringType\n",
    "from conf import catalog, paths, globals\n",
    "import os\n",
    "import time"
   ]
  },
  {
   "cell_type": "code",
   "execution_count": 2,
   "id": "4b4a606c",
   "metadata": {},
   "outputs": [
    {
     "name": "stderr",
     "output_type": "stream",
     "text": [
      "Setting default log level to \"WARN\".\n",
      "To adjust logging level use sc.setLogLevel(newLevel). For SparkR, use setLogLevel(newLevel).\n",
      "23/07/22 10:49:36 WARN NativeCodeLoader: Unable to load native-hadoop library for your platform... using builtin-java classes where applicable\n"
     ]
    }
   ],
   "source": [
    "spark = (\n",
    "    SparkSession.builder.appName(\"Next Watch EDA\")\n",
    "    .master(\"local[3]\")\n",
    "    .config(\"spark.executor.memory\", \"3g\")\n",
    "    .getOrCreate()\n",
    ")"
   ]
  },
  {
   "cell_type": "code",
   "execution_count": 6,
   "id": "374d76c9",
   "metadata": {},
   "outputs": [
    {
     "name": "stdout",
     "output_type": "stream",
     "text": [
      "16\n"
     ]
    },
    {
     "name": "stderr",
     "output_type": "stream",
     "text": [
      "\r",
      "[Stage 0:>                                                          (0 + 3) / 3]\r",
      "\r",
      "                                                                                \r"
     ]
    }
   ],
   "source": [
    "acc = spark.sparkContext.accumulator(1)\n",
    "rdd = spark.sparkContext.parallelize([1, 2, 3, 4, 5])\n",
    "rdd.foreach(lambda x: acc.add(x))\n",
    "print(acc.value)"
   ]
  },
  {
   "cell_type": "markdown",
   "id": "7a75e8fb",
   "metadata": {},
   "source": [
    "### 1. Load datasets"
   ]
  },
  {
   "cell_type": "code",
   "execution_count": 37,
   "id": "6c27c06c",
   "metadata": {},
   "outputs": [],
   "source": [
    "movies_path = paths.get_path(paths.DATA_01EXTERNAL, catalog.Sources.MOVIELENS, catalog.Datasets.MOVIES, as_string=True, \n",
    "                             storage=globals.Storage.DOCKER, suffix=\".csv\")\n",
    "ratings_path = paths.get_path(paths.DATA_01EXTERNAL, catalog.Sources.MOVIELENS, catalog.Datasets.RATINGS, \n",
    "                              as_string=True,  suffix=\".csv\")\n",
    "links_path = paths.get_path(paths.DATA_01EXTERNAL, catalog.Sources.MOVIELENS, catalog.Datasets.LINKS, as_string=True)\n",
    "tags_path = paths.get_path(paths.DATA_01EXTERNAL, catalog.Sources.MOVIELENS, catalog.Datasets.TAGS, as_string=True)"
   ]
  },
  {
   "cell_type": "code",
   "execution_count": 38,
   "id": "fe049183",
   "metadata": {},
   "outputs": [
    {
     "data": {
      "text/plain": [
       "'/data/01-external/movielens/ratings.csv'"
      ]
     },
     "execution_count": 38,
     "metadata": {},
     "output_type": "execute_result"
    }
   ],
   "source": []
  },
  {
   "cell_type": "code",
   "execution_count": 41,
   "id": "0246a1f5",
   "metadata": {},
   "outputs": [],
   "source": [
    "ratings = spark.read.load(\n",
    "    \"/app/data/01-external/movielens/ratings.csv\", format=\"csv\", header=True, inferSchema=True\n",
    ")"
   ]
  },
  {
   "cell_type": "code",
   "execution_count": 59,
   "id": "51728a4d",
   "metadata": {},
   "outputs": [
    {
     "name": "stdout",
     "output_type": "stream",
     "text": [
      "+------+\n",
      "|userId|\n",
      "+------+\n",
      "|     1|\n",
      "|     2|\n",
      "|     3|\n",
      "|     4|\n",
      "|     5|\n",
      "|     6|\n",
      "|     8|\n",
      "|    10|\n",
      "|    11|\n",
      "|    12|\n",
      "|    13|\n",
      "|    14|\n",
      "|    15|\n",
      "|    16|\n",
      "|    17|\n",
      "|    18|\n",
      "|    19|\n",
      "|    20|\n",
      "|    21|\n",
      "|    22|\n",
      "+------+\n",
      "only showing top 20 rows\n",
      "\n",
      "+------+\n",
      "|userId|\n",
      "+------+\n",
      "|   148|\n",
      "|   463|\n",
      "|   471|\n",
      "|   496|\n",
      "|   243|\n",
      "|   392|\n",
      "|   540|\n",
      "|    31|\n",
      "|   516|\n",
      "|    85|\n",
      "|   137|\n",
      "|   251|\n",
      "|   580|\n",
      "|    65|\n",
      "|   458|\n",
      "|    53|\n",
      "|   255|\n",
      "|   481|\n",
      "|   588|\n",
      "|   133|\n",
      "|   296|\n",
      "|   322|\n",
      "|   513|\n",
      "|   321|\n",
      "|   362|\n",
      "|   375|\n",
      "|   108|\n",
      "|   155|\n",
      "|    34|\n",
      "|   193|\n",
      "|   211|\n",
      "|   368|\n",
      "|   530|\n",
      "|   115|\n",
      "|   126|\n",
      "|    81|\n",
      "|   385|\n",
      "|    28|\n",
      "|   183|\n",
      "|   210|\n",
      "|   596|\n",
      "|   300|\n",
      "|   406|\n",
      "|   412|\n",
      "|   587|\n",
      "|    76|\n",
      "|    26|\n",
      "|    27|\n",
      "|   332|\n",
      "|   501|\n",
      "+------+\n",
      "only showing top 50 rows\n",
      "\n",
      "+------+\n",
      "|userId|\n",
      "+------+\n",
      "|   451|\n",
      "|   472|\n",
      "|    78|\n",
      "|   593|\n",
      "|   597|\n",
      "|   101|\n",
      "|   436|\n",
      "|   497|\n",
      "|   336|\n",
      "|   417|\n",
      "|   190|\n",
      "|   225|\n",
      "|   519|\n",
      "|    47|\n",
      "|   603|\n",
      "|   259|\n",
      "|    52|\n",
      "|   297|\n",
      "|   474|\n",
      "|   205|\n",
      "|   169|\n",
      "|   582|\n",
      "|   292|\n",
      "|    48|\n",
      "|   507|\n",
      "|   117|\n",
      "|   262|\n",
      "|   269|\n",
      "|   165|\n",
      "|     9|\n",
      "|   324|\n",
      "|   505|\n",
      "|   485|\n",
      "|   537|\n",
      "|   220|\n",
      "|   241|\n",
      "|   161|\n",
      "|     7|\n",
      "|   549|\n",
      "|   130|\n",
      "|   428|\n",
      "|   448|\n",
      "|    63|\n",
      "|   589|\n",
      "|    50|\n",
      "|   518|\n",
      "|   267|\n",
      "|   293|\n",
      "|   289|\n",
      "|   427|\n",
      "+------+\n",
      "only showing top 50 rows\n",
      "\n"
     ]
    },
    {
     "name": "stderr",
     "output_type": "stream",
     "text": [
      "23/07/22 13:12:40 WARN JavaUtils: Attempt to delete using native Unix OS command failed for path = /tmp/blockmgr-5e477995-3f30-406f-a10d-af47c985f215. Falling back to Java IO way\n",
      "java.io.IOException: Failed to delete: /tmp/blockmgr-5e477995-3f30-406f-a10d-af47c985f215\n",
      "\tat org.apache.spark.network.util.JavaUtils.deleteRecursivelyUsingUnixNative(JavaUtils.java:177)\n",
      "\tat org.apache.spark.network.util.JavaUtils.deleteRecursively(JavaUtils.java:113)\n",
      "\tat org.apache.spark.network.util.JavaUtils.deleteRecursively(JavaUtils.java:94)\n",
      "\tat org.apache.spark.util.Utils$.deleteRecursively(Utils.scala:1231)\n",
      "\tat org.apache.spark.storage.DiskBlockManager.$anonfun$doStop$1(DiskBlockManager.scala:368)\n",
      "\tat org.apache.spark.storage.DiskBlockManager.$anonfun$doStop$1$adapted(DiskBlockManager.scala:364)\n",
      "\tat scala.collection.IndexedSeqOptimized.foreach(IndexedSeqOptimized.scala:36)\n",
      "\tat scala.collection.IndexedSeqOptimized.foreach$(IndexedSeqOptimized.scala:33)\n",
      "\tat scala.collection.mutable.ArrayOps$ofRef.foreach(ArrayOps.scala:198)\n",
      "\tat org.apache.spark.storage.DiskBlockManager.doStop(DiskBlockManager.scala:364)\n",
      "\tat org.apache.spark.storage.DiskBlockManager.stop(DiskBlockManager.scala:359)\n",
      "\tat org.apache.spark.storage.BlockManager.stop(BlockManager.scala:2052)\n",
      "\tat org.apache.spark.SparkEnv.stop(SparkEnv.scala:95)\n",
      "\tat org.apache.spark.SparkContext.$anonfun$stop$25(SparkContext.scala:2175)\n",
      "\tat org.apache.spark.util.Utils$.tryLogNonFatalError(Utils.scala:1509)\n",
      "\tat org.apache.spark.SparkContext.stop(SparkContext.scala:2175)\n",
      "\tat org.apache.spark.SparkContext.stop(SparkContext.scala:2081)\n",
      "\tat org.apache.spark.SparkContext.$anonfun$new$31(SparkContext.scala:664)\n",
      "\tat org.apache.spark.util.SparkShutdownHook.run(ShutdownHookManager.scala:214)\n",
      "\tat org.apache.spark.util.SparkShutdownHookManager.$anonfun$runAll$2(ShutdownHookManager.scala:188)\n",
      "\tat scala.runtime.java8.JFunction0$mcV$sp.apply(JFunction0$mcV$sp.java:23)\n",
      "\tat org.apache.spark.util.Utils$.logUncaughtExceptions(Utils.scala:2088)\n",
      "\tat org.apache.spark.util.SparkShutdownHookManager.$anonfun$runAll$1(ShutdownHookManager.scala:188)\n",
      "\tat scala.runtime.java8.JFunction0$mcV$sp.apply(JFunction0$mcV$sp.java:23)\n",
      "\tat scala.util.Try$.apply(Try.scala:213)\n",
      "\tat org.apache.spark.util.SparkShutdownHookManager.runAll(ShutdownHookManager.scala:188)\n",
      "\tat org.apache.spark.util.SparkShutdownHookManager$$anon$2.run(ShutdownHookManager.scala:178)\n",
      "\tat java.base/java.util.concurrent.Executors$RunnableAdapter.call(Executors.java:515)\n",
      "\tat java.base/java.util.concurrent.FutureTask.run(FutureTask.java:264)\n",
      "\tat java.base/java.util.concurrent.ThreadPoolExecutor.runWorker(ThreadPoolExecutor.java:1128)\n",
      "\tat java.base/java.util.concurrent.ThreadPoolExecutor$Worker.run(ThreadPoolExecutor.java:628)\n",
      "\tat java.base/java.lang.Thread.run(Thread.java:829)\n"
     ]
    }
   ],
   "source": [
    "unique_codes = ratings[[\"userId\"]].distinct()\n",
    "\n",
    "train_codes, eval_codes = unique_codes.randomSplit([0.85, 0.15], seed=42)\n",
    "evaltst_codes.show()\n",
    "    \n",
    "train_set = ratings.join(train_codes, on=\"userId\")\n",
    "eval_set = ratings.join(eval_codes, on=\"userId\")\n",
    "\n",
    "train_set[[\"userId\"]].distinct().show(50)\n",
    "eval_set[[\"userId\"]].distinct().show(50)"
   ]
  },
  {
   "cell_type": "code",
   "execution_count": 9,
   "id": "cf1e29c8",
   "metadata": {},
   "outputs": [
    {
     "ename": "AnalysisException",
     "evalue": "[PATH_NOT_FOUND] Path does not exist: file:/usr/local/lib/python3.9/data/01-external/movielens/movies.",
     "output_type": "error",
     "traceback": [
      "\u001b[0;31m---------------------------------------------------------------------------\u001b[0m",
      "\u001b[0;31mAnalysisException\u001b[0m                         Traceback (most recent call last)",
      "Cell \u001b[0;32mIn[9], line 1\u001b[0m\n\u001b[0;32m----> 1\u001b[0m movies \u001b[38;5;241m=\u001b[39m \u001b[43mspark\u001b[49m\u001b[38;5;241;43m.\u001b[39;49m\u001b[43mread\u001b[49m\u001b[38;5;241;43m.\u001b[39;49m\u001b[43mload\u001b[49m\u001b[43m(\u001b[49m\n\u001b[1;32m      2\u001b[0m \u001b[43m    \u001b[49m\u001b[38;5;28;43mstr\u001b[39;49m\u001b[43m(\u001b[49m\u001b[43mmovies_path\u001b[49m\u001b[43m)\u001b[49m\u001b[43m,\u001b[49m\u001b[43m \u001b[49m\u001b[38;5;28;43mformat\u001b[39;49m\u001b[38;5;241;43m=\u001b[39;49m\u001b[38;5;124;43m\"\u001b[39;49m\u001b[38;5;124;43mcsv\u001b[39;49m\u001b[38;5;124;43m\"\u001b[39;49m\u001b[43m,\u001b[49m\u001b[43m \u001b[49m\u001b[43mheader\u001b[49m\u001b[38;5;241;43m=\u001b[39;49m\u001b[38;5;28;43;01mTrue\u001b[39;49;00m\u001b[43m,\u001b[49m\u001b[43m \u001b[49m\u001b[43minferSchema\u001b[49m\u001b[38;5;241;43m=\u001b[39;49m\u001b[38;5;28;43;01mTrue\u001b[39;49;00m\n\u001b[1;32m      3\u001b[0m \u001b[43m)\u001b[49m\n\u001b[1;32m      4\u001b[0m ratings \u001b[38;5;241m=\u001b[39m spark\u001b[38;5;241m.\u001b[39mread\u001b[38;5;241m.\u001b[39mload(\n\u001b[1;32m      5\u001b[0m     \u001b[38;5;28mstr\u001b[39m(ratings_path), \u001b[38;5;28mformat\u001b[39m\u001b[38;5;241m=\u001b[39m\u001b[38;5;124m\"\u001b[39m\u001b[38;5;124mcsv\u001b[39m\u001b[38;5;124m\"\u001b[39m, header\u001b[38;5;241m=\u001b[39m\u001b[38;5;28;01mTrue\u001b[39;00m, inferSchema\u001b[38;5;241m=\u001b[39m\u001b[38;5;28;01mTrue\u001b[39;00m\n\u001b[1;32m      6\u001b[0m )\n\u001b[1;32m      7\u001b[0m links \u001b[38;5;241m=\u001b[39m spark\u001b[38;5;241m.\u001b[39mread\u001b[38;5;241m.\u001b[39mload(\n\u001b[1;32m      8\u001b[0m     \u001b[38;5;28mstr\u001b[39m(links_path), \u001b[38;5;28mformat\u001b[39m\u001b[38;5;241m=\u001b[39m\u001b[38;5;124m\"\u001b[39m\u001b[38;5;124mcsv\u001b[39m\u001b[38;5;124m\"\u001b[39m, header\u001b[38;5;241m=\u001b[39m\u001b[38;5;28;01mTrue\u001b[39;00m, inferSchema\u001b[38;5;241m=\u001b[39m\u001b[38;5;28;01mTrue\u001b[39;00m\n\u001b[1;32m      9\u001b[0m )\n",
      "File \u001b[0;32m/usr/local/lib/python3.9/dist-packages/pyspark/sql/readwriter.py:300\u001b[0m, in \u001b[0;36mDataFrameReader.load\u001b[0;34m(self, path, format, schema, **options)\u001b[0m\n\u001b[1;32m    298\u001b[0m \u001b[38;5;28mself\u001b[39m\u001b[38;5;241m.\u001b[39moptions(\u001b[38;5;241m*\u001b[39m\u001b[38;5;241m*\u001b[39moptions)\n\u001b[1;32m    299\u001b[0m \u001b[38;5;28;01mif\u001b[39;00m \u001b[38;5;28misinstance\u001b[39m(path, \u001b[38;5;28mstr\u001b[39m):\n\u001b[0;32m--> 300\u001b[0m     \u001b[38;5;28;01mreturn\u001b[39;00m \u001b[38;5;28mself\u001b[39m\u001b[38;5;241m.\u001b[39m_df(\u001b[38;5;28;43mself\u001b[39;49m\u001b[38;5;241;43m.\u001b[39;49m\u001b[43m_jreader\u001b[49m\u001b[38;5;241;43m.\u001b[39;49m\u001b[43mload\u001b[49m\u001b[43m(\u001b[49m\u001b[43mpath\u001b[49m\u001b[43m)\u001b[49m)\n\u001b[1;32m    301\u001b[0m \u001b[38;5;28;01melif\u001b[39;00m path \u001b[38;5;129;01mis\u001b[39;00m \u001b[38;5;129;01mnot\u001b[39;00m \u001b[38;5;28;01mNone\u001b[39;00m:\n\u001b[1;32m    302\u001b[0m     \u001b[38;5;28;01mif\u001b[39;00m \u001b[38;5;28mtype\u001b[39m(path) \u001b[38;5;241m!=\u001b[39m \u001b[38;5;28mlist\u001b[39m:\n",
      "File \u001b[0;32m/usr/local/lib/python3.9/dist-packages/py4j/java_gateway.py:1322\u001b[0m, in \u001b[0;36mJavaMember.__call__\u001b[0;34m(self, *args)\u001b[0m\n\u001b[1;32m   1316\u001b[0m command \u001b[38;5;241m=\u001b[39m proto\u001b[38;5;241m.\u001b[39mCALL_COMMAND_NAME \u001b[38;5;241m+\u001b[39m\\\n\u001b[1;32m   1317\u001b[0m     \u001b[38;5;28mself\u001b[39m\u001b[38;5;241m.\u001b[39mcommand_header \u001b[38;5;241m+\u001b[39m\\\n\u001b[1;32m   1318\u001b[0m     args_command \u001b[38;5;241m+\u001b[39m\\\n\u001b[1;32m   1319\u001b[0m     proto\u001b[38;5;241m.\u001b[39mEND_COMMAND_PART\n\u001b[1;32m   1321\u001b[0m answer \u001b[38;5;241m=\u001b[39m \u001b[38;5;28mself\u001b[39m\u001b[38;5;241m.\u001b[39mgateway_client\u001b[38;5;241m.\u001b[39msend_command(command)\n\u001b[0;32m-> 1322\u001b[0m return_value \u001b[38;5;241m=\u001b[39m \u001b[43mget_return_value\u001b[49m\u001b[43m(\u001b[49m\n\u001b[1;32m   1323\u001b[0m \u001b[43m    \u001b[49m\u001b[43manswer\u001b[49m\u001b[43m,\u001b[49m\u001b[43m \u001b[49m\u001b[38;5;28;43mself\u001b[39;49m\u001b[38;5;241;43m.\u001b[39;49m\u001b[43mgateway_client\u001b[49m\u001b[43m,\u001b[49m\u001b[43m \u001b[49m\u001b[38;5;28;43mself\u001b[39;49m\u001b[38;5;241;43m.\u001b[39;49m\u001b[43mtarget_id\u001b[49m\u001b[43m,\u001b[49m\u001b[43m \u001b[49m\u001b[38;5;28;43mself\u001b[39;49m\u001b[38;5;241;43m.\u001b[39;49m\u001b[43mname\u001b[49m\u001b[43m)\u001b[49m\n\u001b[1;32m   1325\u001b[0m \u001b[38;5;28;01mfor\u001b[39;00m temp_arg \u001b[38;5;129;01min\u001b[39;00m temp_args:\n\u001b[1;32m   1326\u001b[0m     \u001b[38;5;28;01mif\u001b[39;00m \u001b[38;5;28mhasattr\u001b[39m(temp_arg, \u001b[38;5;124m\"\u001b[39m\u001b[38;5;124m_detach\u001b[39m\u001b[38;5;124m\"\u001b[39m):\n",
      "File \u001b[0;32m/usr/local/lib/python3.9/dist-packages/pyspark/errors/exceptions/captured.py:175\u001b[0m, in \u001b[0;36mcapture_sql_exception.<locals>.deco\u001b[0;34m(*a, **kw)\u001b[0m\n\u001b[1;32m    171\u001b[0m converted \u001b[38;5;241m=\u001b[39m convert_exception(e\u001b[38;5;241m.\u001b[39mjava_exception)\n\u001b[1;32m    172\u001b[0m \u001b[38;5;28;01mif\u001b[39;00m \u001b[38;5;129;01mnot\u001b[39;00m \u001b[38;5;28misinstance\u001b[39m(converted, UnknownException):\n\u001b[1;32m    173\u001b[0m     \u001b[38;5;66;03m# Hide where the exception came from that shows a non-Pythonic\u001b[39;00m\n\u001b[1;32m    174\u001b[0m     \u001b[38;5;66;03m# JVM exception message.\u001b[39;00m\n\u001b[0;32m--> 175\u001b[0m     \u001b[38;5;28;01mraise\u001b[39;00m converted \u001b[38;5;28;01mfrom\u001b[39;00m \u001b[38;5;28;01mNone\u001b[39;00m\n\u001b[1;32m    176\u001b[0m \u001b[38;5;28;01melse\u001b[39;00m:\n\u001b[1;32m    177\u001b[0m     \u001b[38;5;28;01mraise\u001b[39;00m\n",
      "\u001b[0;31mAnalysisException\u001b[0m: [PATH_NOT_FOUND] Path does not exist: file:/usr/local/lib/python3.9/data/01-external/movielens/movies."
     ]
    }
   ],
   "source": [
    "movies = spark.read.load(\n",
    "    str(movies_path), format=\"csv\", header=True, inferSchema=True\n",
    ")\n",
    "ratings = spark.read.load(\n",
    "    str(ratings_path), format=\"csv\", header=True, inferSchema=True\n",
    ")\n",
    "links = spark.read.load(\n",
    "    str(links_path), format=\"csv\", header=True, inferSchema=True\n",
    ")\n",
    "tags = spark.read.load(\n",
    "    str(tags_path), format=\"csv\", header=True, inferSchema=True\n",
    ")"
   ]
  },
  {
   "cell_type": "code",
   "execution_count": 10,
   "id": "e3d79891",
   "metadata": {},
   "outputs": [],
   "source": [
    "ratings.createOrReplaceTempView(\"ratings\")\n",
    "movies.createOrReplaceTempView(\"movies\")"
   ]
  },
  {
   "cell_type": "code",
   "execution_count": 11,
   "id": "29e22966",
   "metadata": {},
   "outputs": [
    {
     "name": "stdout",
     "output_type": "stream",
     "text": [
      "+-------+----------------+--------------------+\n",
      "|movieId|           title|              genres|\n",
      "+-------+----------------+--------------------+\n",
      "|      1|Toy Story (1995)|Adventure|Animati...|\n",
      "+-------+----------------+--------------------+\n",
      "only showing top 1 row\n",
      "\n"
     ]
    }
   ],
   "source": [
    "movies.show(1)"
   ]
  },
  {
   "cell_type": "code",
   "execution_count": 12,
   "id": "bbfbd2ff",
   "metadata": {},
   "outputs": [
    {
     "name": "stdout",
     "output_type": "stream",
     "text": [
      "+------+-------+------+----------+\n",
      "|userId|movieId|rating| timestamp|\n",
      "+------+-------+------+----------+\n",
      "|     1|    307|   3.5|1256677221|\n",
      "+------+-------+------+----------+\n",
      "only showing top 1 row\n",
      "\n"
     ]
    }
   ],
   "source": [
    "ratings.show(1)"
   ]
  },
  {
   "cell_type": "code",
   "execution_count": 13,
   "id": "09bcec26",
   "metadata": {},
   "outputs": [
    {
     "name": "stdout",
     "output_type": "stream",
     "text": [
      "+-------+------+------+\n",
      "|movieId|imdbId|tmdbId|\n",
      "+-------+------+------+\n",
      "|      1|114709|   862|\n",
      "+-------+------+------+\n",
      "only showing top 1 row\n",
      "\n"
     ]
    }
   ],
   "source": [
    "links.show(1)"
   ]
  },
  {
   "cell_type": "code",
   "execution_count": 14,
   "id": "fd6c5f92",
   "metadata": {},
   "outputs": [
    {
     "name": "stdout",
     "output_type": "stream",
     "text": [
      "+------+-------+----+----------+\n",
      "|userId|movieId| tag| timestamp|\n",
      "+------+-------+----+----------+\n",
      "|    14|    110|epic|1443148538|\n",
      "+------+-------+----+----------+\n",
      "only showing top 1 row\n",
      "\n"
     ]
    }
   ],
   "source": [
    "tags.show(1)"
   ]
  },
  {
   "cell_type": "markdown",
   "id": "42a8ed69",
   "metadata": {},
   "source": [
    "### 2. EDA: Exploratory Data Analysis"
   ]
  },
  {
   "cell_type": "markdown",
   "id": "166cf2bc",
   "metadata": {},
   "source": [
    "#### 2.1 Aggregate and list ratings"
   ]
  },
  {
   "cell_type": "code",
   "execution_count": 15,
   "id": "067dc15e",
   "metadata": {},
   "outputs": [
    {
     "name": "stderr",
     "output_type": "stream",
     "text": [
      "                                                                                \r"
     ]
    },
    {
     "name": "stdout",
     "output_type": "stream",
     "text": [
      "+-------+--------------------------------------------------+\n",
      "|movieId|collect_set(rating)                               |\n",
      "+-------+--------------------------------------------------+\n",
      "|1      |[2.0, 3.5, 5.0, 1.0, 4.5, 2.5, 4.0, 0.5, 3.0, 1.5]|\n",
      "|3      |[2.0, 3.5, 5.0, 1.0, 4.5, 2.5, 4.0, 0.5, 3.0, 1.5]|\n",
      "|5      |[2.0, 3.5, 5.0, 1.0, 4.5, 2.5, 4.0, 0.5, 3.0, 1.5]|\n",
      "|6      |[2.0, 3.5, 5.0, 1.0, 4.5, 2.5, 4.0, 0.5, 3.0, 1.5]|\n",
      "|12     |[2.0, 3.5, 5.0, 1.0, 4.5, 2.5, 4.0, 0.5, 3.0, 1.5]|\n",
      "+-------+--------------------------------------------------+\n",
      "only showing top 5 rows\n",
      "\n"
     ]
    }
   ],
   "source": [
    "ratings.groupBy(\"movieId\").agg(collect_set(\"rating\")).show(5, False)"
   ]
  },
  {
   "cell_type": "code",
   "execution_count": 16,
   "id": "d6405e6e",
   "metadata": {},
   "outputs": [
    {
     "name": "stderr",
     "output_type": "stream",
     "text": [
      "                                                                                \r"
     ]
    },
    {
     "data": {
      "text/plain": [
       "[Row(rating=0.5),\n",
       " Row(rating=1.0),\n",
       " Row(rating=1.5),\n",
       " Row(rating=2.0),\n",
       " Row(rating=2.5),\n",
       " Row(rating=3.0),\n",
       " Row(rating=3.5),\n",
       " Row(rating=4.0),\n",
       " Row(rating=4.5),\n",
       " Row(rating=5.0)]"
      ]
     },
     "execution_count": 16,
     "metadata": {},
     "output_type": "execute_result"
    }
   ],
   "source": [
    "ratings.select(\"rating\").distinct().rdd.sortBy(lambda r: r[0]).collect()"
   ]
  },
  {
   "cell_type": "markdown",
   "id": "0190b5f4",
   "metadata": {},
   "source": [
    "#### 2.2 Find the most popular movies"
   ]
  },
  {
   "cell_type": "code",
   "execution_count": 17,
   "id": "05594311",
   "metadata": {},
   "outputs": [
    {
     "name": "stderr",
     "output_type": "stream",
     "text": [
      "[Stage 20:======================================>                   (4 + 2) / 6]\r"
     ]
    },
    {
     "name": "stdout",
     "output_type": "stream",
     "text": [
      "+-------+------------------------------------------------------------------------------+------------+\n",
      "|movieId|title                                                                         |n_of_ratings|\n",
      "+-------+------------------------------------------------------------------------------+------------+\n",
      "|318    |Shawshank Redemption, The (1994)                                              |97999       |\n",
      "|356    |Forrest Gump (1994)                                                           |97040       |\n",
      "|296    |Pulp Fiction (1994)                                                           |92406       |\n",
      "|593    |Silence of the Lambs, The (1991)                                              |87899       |\n",
      "|2571   |Matrix, The (1999)                                                            |84545       |\n",
      "|260    |Star Wars: Episode IV - A New Hope (1977)                                     |81815       |\n",
      "|480    |Jurassic Park (1993)                                                          |76451       |\n",
      "|527    |Schindler's List (1993)                                                       |71516       |\n",
      "|110    |Braveheart (1995)                                                             |68803       |\n",
      "|1      |Toy Story (1995)                                                              |68469       |\n",
      "|1210   |Star Wars: Episode VI - Return of the Jedi (1983)                             |66023       |\n",
      "|1196   |Star Wars: Episode V - The Empire Strikes Back (1980)                         |65822       |\n",
      "|2959   |Fight Club (1999)                                                             |65678       |\n",
      "|589    |Terminator 2: Judgment Day (1991)                                             |64258       |\n",
      "|1198   |Raiders of the Lost Ark (Indiana Jones and the Raiders of the Lost Ark) (1981)|63505       |\n",
      "|50     |Usual Suspects, The (1995)                                                    |62180       |\n",
      "|4993   |Lord of the Rings: The Fellowship of the Ring, The (2001)                     |61883       |\n",
      "|858    |Godfather, The (1972)                                                         |60904       |\n",
      "|2858   |American Beauty (1999)                                                        |60820       |\n",
      "|780    |Independence Day (a.k.a. ID4) (1996)                                          |58949       |\n",
      "+-------+------------------------------------------------------------------------------+------------+\n",
      "only showing top 20 rows\n",
      "\n"
     ]
    },
    {
     "name": "stderr",
     "output_type": "stream",
     "text": [
      "\r",
      "                                                                                \r"
     ]
    }
   ],
   "source": [
    "ratings.groupBy(\"movieId\").count().join(\n",
    "    movies,\n",
    "    ratings.movieId == movies.movieId,\n",
    "    \"left\",  # LEFT JOIN because I want get even the movies without titles (if exist any)\n",
    ").drop(movies.movieId).select(\n",
    "    \"movieId\", \"title\", col(\"count\").alias(\"n_of_ratings\")\n",
    ").orderBy(\n",
    "    col(\"n_of_ratings\").desc()\n",
    ").show(\n",
    "    truncate=False\n",
    ")"
   ]
  },
  {
   "cell_type": "code",
   "execution_count": 18,
   "id": "437ffd62",
   "metadata": {},
   "outputs": [
    {
     "name": "stderr",
     "output_type": "stream",
     "text": [
      "[Stage 24:======================================>                   (4 + 2) / 6]\r"
     ]
    },
    {
     "name": "stdout",
     "output_type": "stream",
     "text": [
      "+-------+------------------------------------------------------------------------------+------------+\n",
      "|movieId|title                                                                         |n_of_ratings|\n",
      "+-------+------------------------------------------------------------------------------+------------+\n",
      "|318    |Shawshank Redemption, The (1994)                                              |97999       |\n",
      "|356    |Forrest Gump (1994)                                                           |97040       |\n",
      "|296    |Pulp Fiction (1994)                                                           |92406       |\n",
      "|593    |Silence of the Lambs, The (1991)                                              |87899       |\n",
      "|2571   |Matrix, The (1999)                                                            |84545       |\n",
      "|260    |Star Wars: Episode IV - A New Hope (1977)                                     |81815       |\n",
      "|480    |Jurassic Park (1993)                                                          |76451       |\n",
      "|527    |Schindler's List (1993)                                                       |71516       |\n",
      "|110    |Braveheart (1995)                                                             |68803       |\n",
      "|1      |Toy Story (1995)                                                              |68469       |\n",
      "|1210   |Star Wars: Episode VI - Return of the Jedi (1983)                             |66023       |\n",
      "|1196   |Star Wars: Episode V - The Empire Strikes Back (1980)                         |65822       |\n",
      "|2959   |Fight Club (1999)                                                             |65678       |\n",
      "|589    |Terminator 2: Judgment Day (1991)                                             |64258       |\n",
      "|1198   |Raiders of the Lost Ark (Indiana Jones and the Raiders of the Lost Ark) (1981)|63505       |\n",
      "|50     |Usual Suspects, The (1995)                                                    |62180       |\n",
      "|4993   |Lord of the Rings: The Fellowship of the Ring, The (2001)                     |61883       |\n",
      "|858    |Godfather, The (1972)                                                         |60904       |\n",
      "|2858   |American Beauty (1999)                                                        |60820       |\n",
      "|780    |Independence Day (a.k.a. ID4) (1996)                                          |58949       |\n",
      "+-------+------------------------------------------------------------------------------+------------+\n",
      "only showing top 20 rows\n",
      "\n"
     ]
    },
    {
     "name": "stderr",
     "output_type": "stream",
     "text": [
      "\r",
      "                                                                                \r"
     ]
    }
   ],
   "source": [
    "spark.sql(\n",
    "    \"\"\"\n",
    "    SELECT \n",
    "        r.movieId,m.title,COUNT(r.movieId) AS n_of_ratings\n",
    "    FROM\n",
    "        ratings AS r\n",
    "    LEFT JOIN \n",
    "        movies AS m\n",
    "    WHERE\n",
    "        r.movieId == m.movieId\n",
    "    GROUP BY\n",
    "        r.movieId,m.title\n",
    "    ORDER BY\n",
    "        n_of_ratings DESC\n",
    "    \"\"\"\n",
    ").show(truncate=False)"
   ]
  },
  {
   "cell_type": "markdown",
   "id": "0e05d3a5",
   "metadata": {},
   "source": [
    "#### 2.3 Find the highest rating movies"
   ]
  },
  {
   "cell_type": "code",
   "execution_count": 19,
   "id": "16b2139a",
   "metadata": {},
   "outputs": [
    {
     "name": "stderr",
     "output_type": "stream",
     "text": [
      "[Stage 28:======================================>                   (4 + 2) / 6]\r"
     ]
    },
    {
     "name": "stdout",
     "output_type": "stream",
     "text": [
      "+-------+-------------------------------------------------------+----------+------------+\n",
      "|movieId|title                                                  |avg_rating|n_of_ratings|\n",
      "+-------+-------------------------------------------------------+----------+------------+\n",
      "|152711 |Who Killed Chea Vichea? (2010)                         |5.0       |2           |\n",
      "|164771 |Love Finds You in Valentine (2016)                     |5.0       |2           |\n",
      "|171821 |3-D Sex and Zen: Extreme Ecstasy (2011)                |5.0       |2           |\n",
      "|140369 |War Arrow (1954)                                       |5.0       |2           |\n",
      "|164787 |You Cast A Spell On Me (2015)                          |5.0       |2           |\n",
      "|193527 |The Enclosed Valley (1995)                             |5.0       |2           |\n",
      "|139547 |Placebo: Soulmates Never Die: Live in Paris 2003 (2004)|5.0       |2           |\n",
      "|137593 |Hooligan (1998)                                        |5.0       |2           |\n",
      "|143422 |2 (2007)                                               |5.0       |2           |\n",
      "|193529 |Traces of Smoke (1992)                                 |5.0       |2           |\n",
      "|166028 |What Remains of Us (2004)                              |5.0       |2           |\n",
      "|179591 |A Royal Winter (2017)                                  |5.0       |2           |\n",
      "|148298 |Awaken (2013)                                          |5.0       |2           |\n",
      "|182435 |The Most Wonderful Time of the Year (2008)             |5.0       |2           |\n",
      "|151569 |The Old Fairy Tale: When the Sun Was God (2003)        |5.0       |2           |\n",
      "|179559 |The Memory Book (2014)                                 |5.0       |2           |\n",
      "|177581 |North of the Sun (2012)                                |5.0       |2           |\n",
      "|133297 |Genius on Hold (2013)                                  |5.0       |2           |\n",
      "|179589 |Windstorm 2 (2015)                                     |5.0       |2           |\n",
      "|188503 |The Diary of a Big Man (1988)                          |5.0       |2           |\n",
      "+-------+-------------------------------------------------------+----------+------------+\n",
      "only showing top 20 rows\n",
      "\n"
     ]
    },
    {
     "name": "stderr",
     "output_type": "stream",
     "text": [
      "\r",
      "[Stage 28:================================================>         (5 + 1) / 6]\r",
      "\r",
      "                                                                                \r"
     ]
    }
   ],
   "source": [
    "ratings.groupBy(\"movieId\").agg(\n",
    "    avg(\"rating\").alias(\"avg_rating\"), count(\"rating\").alias(\"n_of_ratings\")\n",
    ").join(movies, ratings.movieId == movies.movieId, \"left\").drop(movies.movieId).select(\n",
    "    \"movieId\",\n",
    "    \"title\",\n",
    "    \"avg_rating\",\n",
    "    \"n_of_ratings\",\n",
    ").orderBy(\n",
    "    col(\"avg_rating\").desc(), col(\"n_of_ratings\").desc()\n",
    ").show(\n",
    "    truncate=False\n",
    ")"
   ]
  },
  {
   "cell_type": "markdown",
   "id": "512dbda4",
   "metadata": {},
   "source": [
    "#### 2.4 Find the most active users"
   ]
  },
  {
   "cell_type": "code",
   "execution_count": 20,
   "id": "c3cfe1b2",
   "metadata": {},
   "outputs": [
    {
     "name": "stderr",
     "output_type": "stream",
     "text": [
      "[Stage 31:======================================>                   (4 + 2) / 6]\r"
     ]
    },
    {
     "name": "stdout",
     "output_type": "stream",
     "text": [
      "+------+------------+\n",
      "|userId|n_of_ratings|\n",
      "+------+------------+\n",
      "|123100|       23715|\n",
      "|117490|        9279|\n",
      "|134596|        8381|\n",
      "|212343|        7884|\n",
      "|242683|        7515|\n",
      "+------+------------+\n",
      "only showing top 5 rows\n",
      "\n"
     ]
    },
    {
     "name": "stderr",
     "output_type": "stream",
     "text": [
      "\r",
      "                                                                                \r"
     ]
    }
   ],
   "source": [
    "ratings.groupBy(\"userId\").count().select(\n",
    "    \"userId\", col(\"count\").alias(\"n_of_ratings\")\n",
    ").orderBy(col(\"n_of_ratings\").desc()).show(5)"
   ]
  },
  {
   "cell_type": "markdown",
   "id": "57e7f69a",
   "metadata": {},
   "source": [
    "#### 2.5 Top rated movies by genre"
   ]
  },
  {
   "cell_type": "code",
   "execution_count": 21,
   "id": "f783a722",
   "metadata": {},
   "outputs": [],
   "source": [
    "@udf(returnType=ArrayType(StringType()))\n",
    "def split_pipe(x):\n",
    "    return x.split(\"|\")"
   ]
  },
  {
   "cell_type": "code",
   "execution_count": 22,
   "id": "163f97ff",
   "metadata": {},
   "outputs": [
    {
     "name": "stdout",
     "output_type": "stream",
     "text": [
      "+------------------+\n",
      "|            genres|\n",
      "+------------------+\n",
      "|             Crime|\n",
      "|           Romance|\n",
      "|          Thriller|\n",
      "|         Adventure|\n",
      "|             Drama|\n",
      "|               War|\n",
      "|       Documentary|\n",
      "|           Fantasy|\n",
      "|           Mystery|\n",
      "|           Musical|\n",
      "|         Animation|\n",
      "|         Film-Noir|\n",
      "|(no genres listed)|\n",
      "|              IMAX|\n",
      "|            Horror|\n",
      "|           Western|\n",
      "|            Comedy|\n",
      "|          Children|\n",
      "|            Action|\n",
      "|            Sci-Fi|\n",
      "+------------------+\n",
      "\n"
     ]
    },
    {
     "name": "stderr",
     "output_type": "stream",
     "text": [
      "\r",
      "[Stage 34:>                                                         (0 + 1) / 1]\r",
      "\r",
      "                                                                                \r"
     ]
    }
   ],
   "source": [
    "# Display genres\n",
    "df = (\n",
    "    movies.select(\n",
    "        explode(split_pipe(\"genres\")).alias(\"genres\"),\n",
    "    )\n",
    "    .distinct()\n",
    "    .show()\n",
    ")"
   ]
  },
  {
   "cell_type": "code",
   "execution_count": 23,
   "id": "31eb1744",
   "metadata": {},
   "outputs": [
    {
     "name": "stderr",
     "output_type": "stream",
     "text": [
      "[Stage 42:======================================>                   (4 + 2) / 6]\r"
     ]
    },
    {
     "name": "stdout",
     "output_type": "stream",
     "text": [
      "Time taken with an User Defined Function: 8.6007s\n",
      "Time taken with native Spark functions: 9.0201s\n"
     ]
    },
    {
     "name": "stderr",
     "output_type": "stream",
     "text": [
      "\r",
      "[Stage 42:================================================>         (5 + 1) / 6]\r",
      "\r",
      "                                                                                \r"
     ]
    },
    {
     "data": {
      "text/plain": [
       "[Row(movieId=1212, title='Third Man, The (1949)', genre='Film-Noir', avg_rating=4.20375939849624, n_of_ratings=7980),\n",
       " Row(movieId=3435, title='Double Indemnity (1944)', genre='Film-Noir', avg_rating=4.199261675824176, n_of_ratings=5824),\n",
       " Row(movieId=922, title='Sunset Blvd. (a.k.a. Sunset Boulevard) (1950)', genre='Film-Noir', avg_rating=4.195425943852856, n_of_ratings=8264),\n",
       " Row(movieId=930, title='Notorious (1946)', genre='Film-Noir', avg_rating=4.163581345674618, n_of_ratings=5618),\n",
       " Row(movieId=1260, title='M (1931)', genre='Film-Noir', avg_rating=4.161491297468355, n_of_ratings=5056),\n",
       " Row(movieId=1284, title='Big Sleep, The (1946)', genre='Film-Noir', avg_rating=4.159891808346213, n_of_ratings=6470),\n",
       " Row(movieId=1252, title='Chinatown (1974)', genre='Film-Noir', avg_rating=4.1524313561098305, n_of_ratings=19084),\n",
       " Row(movieId=1248, title='Touch of Evil (1958)', genre='Film-Noir', avg_rating=4.15122820176261, n_of_ratings=5333),\n",
       " Row(movieId=913, title='Maltese Falcon, The (1941)', genre='Film-Noir', avg_rating=4.132430579362358, n_of_ratings=14585),\n",
       " Row(movieId=7926, title='High and Low (Tengoku to jigoku) (1963)', genre='Film-Noir', avg_rating=4.125615763546798, n_of_ratings=812)]"
      ]
     },
     "execution_count": 23,
     "metadata": {},
     "output_type": "execute_result"
    }
   ],
   "source": [
    "genre_to_compare = \"Film-Noir\"\n",
    "\n",
    "\n",
    "def genre_top_rated_movies(udf_flag: bool = False) -> Tuple[DataFrame, float]:\n",
    "    s = time.perf_counter()\n",
    "    df = (\n",
    "        movies.select(\n",
    "            movies.colRegex(\"`^(?!genres).*$`\"),  # do not select genres column\n",
    "            explode(\n",
    "                split(col(\"genres\"), \"\\\\|\") if not udf_flag else split_pipe(\"genres\")\n",
    "            ).alias(\"genre\"),\n",
    "        )\n",
    "        .filter(col(\"genre\") == genre_to_compare)\n",
    "        .join(ratings, movies.movieId == ratings.movieId, \"inner\")\n",
    "        .drop(ratings.movieId)\n",
    "        .groupBy(\"movieId\", \"title\", \"genre\")\n",
    "        .agg(avg(\"rating\").alias(\"avg_rating\"), count(\"rating\").alias(\"n_of_ratings\"))\n",
    "        .coalesce(3)  # maybe we do not need many partitions...\n",
    "        .orderBy(col(\"avg_rating\").desc(), col(\"n_of_ratings\").desc())\n",
    "        .take(10)\n",
    "    )\n",
    "    t = time.perf_counter() - s\n",
    "    return df, t\n",
    "\n",
    "\n",
    "spark_take, spark_time = genre_top_rated_movies(udf_flag=False)\n",
    "udf_take, udf_time = genre_top_rated_movies(udf_flag=True)\n",
    "\n",
    "print(f\"Time taken with an User Defined Function: {udf_time:.4f}s\")\n",
    "print(f\"Time taken with native Spark functions: {spark_time:.4f}s\")\n",
    "\n",
    "udf_take"
   ]
  },
  {
   "cell_type": "markdown",
   "id": "72319675",
   "metadata": {},
   "source": [
    "#### 2.6 Min ratings per user and min ratings per movie"
   ]
  },
  {
   "cell_type": "code",
   "execution_count": 24,
   "id": "733d0c2a",
   "metadata": {},
   "outputs": [
    {
     "name": "stderr",
     "output_type": "stream",
     "text": [
      "                                                                                \r"
     ]
    },
    {
     "name": "stdout",
     "output_type": "stream",
     "text": [
      "+---+\n",
      "|min|\n",
      "+---+\n",
      "|  1|\n",
      "+---+\n",
      "\n"
     ]
    },
    {
     "name": "stderr",
     "output_type": "stream",
     "text": [
      "[Stage 51:======================================>                   (4 + 2) / 6]\r"
     ]
    },
    {
     "name": "stdout",
     "output_type": "stream",
     "text": [
      "+---+\n",
      "|min|\n",
      "+---+\n",
      "|  1|\n",
      "+---+\n",
      "\n"
     ]
    },
    {
     "name": "stderr",
     "output_type": "stream",
     "text": [
      "\r",
      "                                                                                \r"
     ]
    }
   ],
   "source": [
    "ratings.groupBy(\"userId\").count().agg(min(\"count\").alias(\"min\")).show()\n",
    "\n",
    "ratings.groupBy(\"movieId\").count().agg(min(\"count\").alias(\"min\")).show()"
   ]
  },
  {
   "cell_type": "markdown",
   "id": "68596f95",
   "metadata": {},
   "source": [
    "#### 2.7 Movies that were rated only by one user"
   ]
  },
  {
   "cell_type": "code",
   "execution_count": 25,
   "id": "65d631b5",
   "metadata": {},
   "outputs": [
    {
     "name": "stderr",
     "output_type": "stream",
     "text": [
      "[Stage 63:======================================>                   (4 + 2) / 6]\r"
     ]
    },
    {
     "name": "stdout",
     "output_type": "stream",
     "text": [
      "18.84% of the movies have only 1 rating\n"
     ]
    },
    {
     "name": "stderr",
     "output_type": "stream",
     "text": [
      "\r",
      "                                                                                \r"
     ]
    }
   ],
   "source": [
    "n_1_rating_movies = ratings.groupBy(\"movieId\").count().filter(col(\"count\") == 1).count()\n",
    "n_all_movies = ratings.select(\"movieId\").distinct().count()\n",
    "\n",
    "perc_1_rating = (n_1_rating_movies / n_all_movies) * 100\n",
    "\n",
    "print(f\"{perc_1_rating:.2f}% of the movies have only 1 rating\")"
   ]
  },
  {
   "cell_type": "markdown",
   "id": "45b00c1d",
   "metadata": {},
   "source": [
    "#### 2.8 Total Number of users in the datasets"
   ]
  },
  {
   "cell_type": "code",
   "execution_count": 26,
   "id": "4db78a04",
   "metadata": {},
   "outputs": [
    {
     "name": "stderr",
     "output_type": "stream",
     "text": [
      "                                                                                \r"
     ]
    },
    {
     "data": {
      "text/plain": [
       "283228"
      ]
     },
     "execution_count": 26,
     "metadata": {},
     "output_type": "execute_result"
    }
   ],
   "source": [
    "ratings.select(\"userID\").distinct().count()"
   ]
  },
  {
   "cell_type": "markdown",
   "id": "8e61cd52",
   "metadata": {},
   "source": [
    "#### 2.9 Total number of movies in the datasets"
   ]
  },
  {
   "cell_type": "code",
   "execution_count": 27,
   "id": "de02949e",
   "metadata": {},
   "outputs": [
    {
     "data": {
      "text/plain": [
       "58098"
      ]
     },
     "execution_count": 27,
     "metadata": {},
     "output_type": "execute_result"
    }
   ],
   "source": [
    "movies.select(\"movieID\").distinct().count()"
   ]
  },
  {
   "cell_type": "markdown",
   "id": "88ee0e2e",
   "metadata": {},
   "source": [
    "#### 2.10 Movies that are not yet rated"
   ]
  },
  {
   "cell_type": "code",
   "execution_count": 28,
   "id": "741e8223",
   "metadata": {},
   "outputs": [
    {
     "name": "stderr",
     "output_type": "stream",
     "text": [
      "                                                                                \r"
     ]
    },
    {
     "data": {
      "text/plain": [
       "4209"
      ]
     },
     "execution_count": 28,
     "metadata": {},
     "output_type": "execute_result"
    }
   ],
   "source": [
    "movies.join(ratings, movies.movieId == ratings.movieId, \"left_anti\").select(\n",
    "    \"movieId\"\n",
    ").distinct().count()\n",
    "\n",
    "# OR\n",
    "\n",
    "movies.select(\"movieId\").subtract(\n",
    "    ratings.select(\"movieId\")\n",
    ").count()  # subtract is the same as EXCEPT DISTINCT in SQL..."
   ]
  },
  {
   "cell_type": "markdown",
   "id": "bc4ae502",
   "metadata": {},
   "source": [
    "#### 2.11 Number of Movies for each category"
   ]
  },
  {
   "cell_type": "code",
   "execution_count": 29,
   "id": "83cf9a72",
   "metadata": {},
   "outputs": [
    {
     "name": "stdout",
     "output_type": "stream",
     "text": [
      "+------------------+-----+\n",
      "|            genres|count|\n",
      "+------------------+-----+\n",
      "|             Drama|24144|\n",
      "|            Comedy|15956|\n",
      "|          Thriller| 8216|\n",
      "|           Romance| 7412|\n",
      "|            Action| 7130|\n",
      "|            Horror| 5555|\n",
      "|       Documentary| 5118|\n",
      "|             Crime| 5105|\n",
      "|(no genres listed)| 4266|\n",
      "|         Adventure| 4067|\n",
      "|            Sci-Fi| 3444|\n",
      "|           Mystery| 2773|\n",
      "|          Children| 2749|\n",
      "|         Animation| 2663|\n",
      "|           Fantasy| 2637|\n",
      "|               War| 1820|\n",
      "|           Western| 1378|\n",
      "|           Musical| 1113|\n",
      "|         Film-Noir|  364|\n",
      "|              IMAX|  197|\n",
      "+------------------+-----+\n",
      "\n"
     ]
    }
   ],
   "source": [
    "movies.select(\"movieID\", explode(split_pipe(\"genres\")).alias(\"genres\")).groupby(\n",
    "    \"genres\"\n",
    ").count().sort(col(\"count\").desc()).show()"
   ]
  },
  {
   "cell_type": "code",
   "execution_count": null,
   "id": "a37b6da5",
   "metadata": {},
   "outputs": [],
   "source": []
  }
 ],
 "metadata": {
  "kernelspec": {
   "display_name": "Python 3 (ipykernel)",
   "language": "python",
   "name": "python3"
  },
  "language_info": {
   "codemirror_mode": {
    "name": "ipython",
    "version": 3
   },
   "file_extension": ".py",
   "mimetype": "text/x-python",
   "name": "python",
   "nbconvert_exporter": "python",
   "pygments_lexer": "ipython3",
   "version": "3.9.5"
  }
 },
 "nbformat": 4,
 "nbformat_minor": 5
}
