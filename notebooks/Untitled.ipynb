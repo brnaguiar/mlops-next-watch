{
 "cells": [
  {
   "cell_type": "code",
   "execution_count": 1,
   "id": "a1072389",
   "metadata": {},
   "outputs": [],
   "source": [
    "#from src.conf.NWPaths import NWPaths\n",
    "from conf import catalog\n",
    "from pyspark.sql import SparkSession\n",
    "\n",
    "from collaborative.pipelines.pipelines import Pipelines"
   ]
  },
  {
   "cell_type": "code",
   "execution_count": 3,
   "id": "9d41265a",
   "metadata": {
    "scrolled": true
   },
   "outputs": [],
   "source": [
    "spark = (\n",
    "    SparkSession.builder.appName(\"Next Watch ML\")\n",
    "    .master(\"local[3]\")\n",
    "    # .config(\"spark.executor.memory\", \"3g\")\n",
    "    .config(\"spark.driver.maxResultSize\", \"96g\")\n",
    "    .config(\"spark.driver.memory\", \"96g\")\n",
    "    .config(\"spark.executor.memory\", \"8g\")\n",
    "    .getOrCreate()\n",
    ")  # dark"
   ]
  },
  {
   "cell_type": "code",
   "execution_count": 4,
   "id": "d6a68d83",
   "metadata": {},
   "outputs": [],
   "source": [
    "pipelines = Pipelines(spark, catalog.Sources.MOVIELENS)"
   ]
  },
  {
   "cell_type": "code",
   "execution_count": 5,
   "id": "83dcc38e",
   "metadata": {
    "scrolled": false
   },
   "outputs": [
    {
     "name": "stderr",
     "output_type": "stream",
     "text": [
      "                                                                                \r"
     ]
    }
   ],
   "source": [
    "train, serve = pipelines.data_engineering()"
   ]
  },
  {
   "cell_type": "code",
   "execution_count": 6,
   "id": "9f9c3d68",
   "metadata": {},
   "outputs": [
    {
     "name": "stderr",
     "output_type": "stream",
     "text": [
      "                                                                                \r"
     ]
    },
    {
     "data": {
      "text/plain": [
       "2777537"
      ]
     },
     "execution_count": 6,
     "metadata": {},
     "output_type": "execute_result"
    }
   ],
   "source": [
    "train.count()"
   ]
  },
  {
   "cell_type": "code",
   "execution_count": 7,
   "id": "13104483",
   "metadata": {},
   "outputs": [
    {
     "name": "stdout",
     "output_type": "stream",
     "text": [
      "\r",
      "  0%|                                                                                                                                       | 0/5 [00:00<?, ?trial/s, best loss=?]"
     ]
    },
    {
     "name": "stderr",
     "output_type": "stream",
     "text": [
      "23/05/22 23:34:34 WARN InstanceBuilder: Failed to load implementation from:dev.ludovic.netlib.blas.JNIBLAS\n",
      "23/05/22 23:34:34 WARN InstanceBuilder: Failed to load implementation from:dev.ludovic.netlib.lapack.JNILAPACK\n",
      "[Stage 100:======================================>                  (2 + 1) / 3]\r"
     ]
    },
    {
     "name": "stdout",
     "output_type": "stream",
     "text": [
      "\r",
      " 20%|█████████████████████▊                                                                                       | 1/5 [00:44<02:57, 44.38s/trial, best loss: 0.9841517927800653]"
     ]
    },
    {
     "name": "stderr",
     "output_type": "stream",
     "text": [
      "[Stage 135:======================================>                  (4 + 2) / 6]\r"
     ]
    },
    {
     "name": "stdout",
     "output_type": "stream",
     "text": [
      "\r",
      " 40%|███████████████████████████████████████████▌                                                                 | 2/5 [01:19<01:57, 39.08s/trial, best loss: 0.9584896118104542]"
     ]
    },
    {
     "name": "stderr",
     "output_type": "stream",
     "text": [
      "[Stage 215:===============================================>         (5 + 1) / 6]\r"
     ]
    },
    {
     "name": "stdout",
     "output_type": "stream",
     "text": [
      "\r",
      " 60%|█████████████████████████████████████████████████████████████████▍                                           | 3/5 [01:58<01:17, 38.84s/trial, best loss: 0.9354556638697633]"
     ]
    },
    {
     "name": "stderr",
     "output_type": "stream",
     "text": [
      "[Stage 295:===============================================>         (5 + 1) / 6]\r"
     ]
    },
    {
     "name": "stdout",
     "output_type": "stream",
     "text": [
      "\r",
      " 80%|███████████████████████████████████████████████████████████████████████████████████████▏                     | 4/5 [02:33<00:37, 37.58s/trial, best loss: 0.9354556638697633]"
     ]
    },
    {
     "name": "stderr",
     "output_type": "stream",
     "text": [
      "[Stage 375:===============================================>         (5 + 1) / 6]\r"
     ]
    },
    {
     "name": "stdout",
     "output_type": "stream",
     "text": [
      "100%|█████████████████████████████████████████████████████████████████████████████████████████████████████████████| 5/5 [03:12<00:00, 38.45s/trial, best loss: 0.9354556638697633]\n",
      "{'loss': 0.9354556638697633, 'params': {'cold_start_strategy': 'drop', 'max_iter': 5, 'rank': 18, 'reg_param': 0.1403784918014847}, 'status': 'ok'}\n"
     ]
    },
    {
     "name": "stderr",
     "output_type": "stream",
     "text": [
      "\r",
      "                                                                                \r"
     ]
    }
   ],
   "source": [
    "pipelines.data_science(train)"
   ]
  }
 ],
 "metadata": {
  "kernelspec": {
   "display_name": "Python 3 (ipykernel)",
   "language": "python",
   "name": "python3"
  },
  "language_info": {
   "codemirror_mode": {
    "name": "ipython",
    "version": 3
   },
   "file_extension": ".py",
   "mimetype": "text/x-python",
   "name": "python",
   "nbconvert_exporter": "python",
   "pygments_lexer": "ipython3",
   "version": "3.10.9"
  }
 },
 "nbformat": 4,
 "nbformat_minor": 5
}
